{
 "cells": [
  {
   "cell_type": "markdown",
   "id": "compact-british",
   "metadata": {},
   "source": [
    "# Tarea 2\n",
    "## Gabriel Daniel Aguilar Luna\n",
    "### _Facultad de Ingeniería, Universidad Nacional Autónoma de México_\n",
    "### _Ciudad de México, México_\n",
    "#### gabriel.aguilar@ingenieria.unam.edu\n",
    "***"
   ]
  },
  {
   "cell_type": "markdown",
   "id": "connected-device",
   "metadata": {},
   "source": [
    "## Desarollo:\n",
    "\n",
    "A partir del corpus seleccionado en la tarea anterior realizar un modelo del lenguaje neuronal con base en la arquitectura propuesta por Bengio (2003). El corpus ya debe estar preprocesado. S´ıganse los siguientes pasos:"
   ]
  },
  {
   "cell_type": "code",
   "execution_count": 39,
   "id": "corporate-startup",
   "metadata": {},
   "outputs": [],
   "source": [
    "#Bibliotecas\n",
    "from nltk.corpus import brown\n",
    "from collections import Counter\n",
    "from random import sample, choice\n",
    "from itertools import chain\n",
    "from copy import deepcopy\n",
    "import numpy as np\n",
    "from scipy.special import softmax\n",
    "from math import log"
   ]
  },
  {
   "cell_type": "code",
   "execution_count": 2,
   "id": "bridal-coordination",
   "metadata": {},
   "outputs": [
    {
     "data": {
      "text/plain": [
       "[['The', 'Fulton', 'County', 'Grand', 'Jury', 'said', 'Friday', 'an', 'investigation', 'of', \"Atlanta's\", 'recent', 'primary', 'election', 'produced', '``', 'no', 'evidence', \"''\", 'that', 'any', 'irregularities', 'took', 'place', '.'], ['The', 'jury', 'further', 'said', 'in', 'term-end', 'presentments', 'that', 'the', 'City', 'Executive', 'Committee', ',', 'which', 'had', 'over-all', 'charge', 'of', 'the', 'election', ',', '``', 'deserves', 'the', 'praise', 'and', 'thanks', 'of', 'the', 'City', 'of', 'Atlanta', \"''\", 'for', 'the', 'manner', 'in', 'which', 'the', 'election', 'was', 'conducted', '.'], ...]"
      ]
     },
     "execution_count": 2,
     "metadata": {},
     "output_type": "execute_result"
    }
   ],
   "source": [
    "brown.sents()"
   ]
  },
  {
   "cell_type": "markdown",
   "id": "musical-print",
   "metadata": {},
   "source": [
    " ## Insertar símbolos de inicio y final de cadena."
   ]
  },
  {
   "cell_type": "code",
   "execution_count": 3,
   "id": "through-slave",
   "metadata": {},
   "outputs": [],
   "source": [
    "BOS = '<BOS>'\n",
    "EOS = '<EOS>'\n",
    "bse = [[BOS]+sent+[EOS] for sent in brown.sents()]"
   ]
  },
  {
   "cell_type": "code",
   "execution_count": 4,
   "id": "auburn-gregory",
   "metadata": {},
   "outputs": [],
   "source": [
    "# Esta funcion devuelve una cadena conformada por las palabras en la lista\n",
    "# de strings sent_list. Despues de cada palabra agrega un espacio ' '\n",
    "# para facilitar la visualizacion.\n",
    "# sent_list debe ser una lista de strings.\n",
    "def sentString(sent_list):\n",
    "    return ''.join(w+' ' for w in sent_list)[:-1]"
   ]
  },
  {
   "cell_type": "code",
   "execution_count": 5,
   "id": "sustained-grain",
   "metadata": {},
   "outputs": [
    {
     "data": {
      "text/plain": [
       "\"<BOS> The operations of its other plant in Rochdale and Leesona's former operations in Manchester were transferred to a recently acquired plant in the adjoining town of Heywood . <EOS>\""
      ]
     },
     "execution_count": 5,
     "metadata": {},
     "output_type": "execute_result"
    }
   ],
   "source": [
    "# Comprobamos que a las sentancias se les han agregado los\n",
    "# simbolos de inicio BOS y final EOS.\n",
    "sentString(sample(bse, 1)[0])"
   ]
  },
  {
   "cell_type": "markdown",
   "id": "sweet-driving",
   "metadata": {},
   "source": [
    "## Obtener los bigramas que aparecen en el texto (indexar numéricamente)."
   ]
  },
  {
   "cell_type": "code",
   "execution_count": 6,
   "id": "anticipated-insurance",
   "metadata": {},
   "outputs": [],
   "source": [
    "# tokens es una lista de todas las cadenas de todas las sentencias en el corpus.\n",
    "tokens = [w for w in chain(*[sent for sent in bse])]\n",
    "# tipos es una lista de todas las palabras diferentes en el corpus\n",
    "tipos = set(tokens)\n",
    "# indice es un diccionario que asigna como valor un numero entero a cada tipo\n",
    "# las cadenas del la lista tipos son las llaves del diccionario.\n",
    "indice = dict(zip(tipos, range(len(tipos))))"
   ]
  },
  {
   "cell_type": "code",
   "execution_count": 7,
   "id": "adverse-romance",
   "metadata": {},
   "outputs": [
    {
     "name": "stdout",
     "output_type": "stream",
     "text": [
      "Tokens:\t\t 1275872\n",
      "Tipos:\t\t 56059\n",
      "Indice:\t\t 56059\n",
      "Indice[BOS]:\t 13727\n",
      "Indice[EOS]:\t 25641\n"
     ]
    }
   ],
   "source": [
    "print(\"Tokens:\\t\\t\",len(tokens))\n",
    "print(\"Tipos:\\t\\t\",len(tipos))\n",
    "print(\"Indice:\\t\\t\",len(indice))\n",
    "print(\"Indice[BOS]:\\t\",indice[BOS])\n",
    "print(\"Indice[EOS]:\\t\",indice[EOS])"
   ]
  },
  {
   "cell_type": "code",
   "execution_count": 8,
   "id": "proof-trader",
   "metadata": {},
   "outputs": [],
   "source": [
    "# La variable numSents es una lista de las sentencias del corpus representadas\n",
    "# por los indices numericos de las cadenas que las conforman\n",
    "numSents = deepcopy(bse)\n",
    "for i in range(len(numSents)):\n",
    "    for j in range(len(numSents[i])):\n",
    "        numSents[i][j] = indice[numSents[i][j]]"
   ]
  },
  {
   "cell_type": "code",
   "execution_count": 9,
   "id": "municipal-arena",
   "metadata": {},
   "outputs": [
    {
     "data": {
      "text/plain": [
       "[13727, 34720, 25641]"
      ]
     },
     "execution_count": 9,
     "metadata": {},
     "output_type": "execute_result"
    }
   ],
   "source": [
    "# Se muestra la sentencia más corta:\n",
    "min(numSents, key=len)"
   ]
  },
  {
   "cell_type": "markdown",
   "id": "absolute-sacrifice",
   "metadata": {},
   "source": [
    "Se crea una lista de bigramas numericos y otra con los bigramas string."
   ]
  },
  {
   "cell_type": "code",
   "execution_count": 10,
   "id": "focal-milwaukee",
   "metadata": {},
   "outputs": [],
   "source": [
    "bigramas = list(chain(*[zip(sent,sent[1:]) for sent in numSents]))\n",
    "bigramas_str = list(chain(*[zip(sent,sent[1:]) for sent in bse]))"
   ]
  },
  {
   "cell_type": "code",
   "execution_count": 11,
   "id": "minimal-lawrence",
   "metadata": {},
   "outputs": [
    {
     "name": "stdout",
     "output_type": "stream",
     "text": [
      "(19759, 31980) \t ('the', 'praise')\n",
      "(31980, 138) \t ('praise', 'and')\n",
      "(138, 55181) \t ('and', 'thanks')\n",
      "(55181, 27391) \t ('thanks', 'of')\n"
     ]
    }
   ],
   "source": [
    "for muestra in range(50,54):\n",
    "    print(bigramas[muestra],'\\t',bigramas_str[muestra])"
   ]
  },
  {
   "cell_type": "code",
   "execution_count": 90,
   "id": "agreed-watch",
   "metadata": {},
   "outputs": [
    {
     "data": {
      "text/plain": [
       "1218532"
      ]
     },
     "execution_count": 90,
     "metadata": {},
     "output_type": "execute_result"
    }
   ],
   "source": [
    "len(bigramas)"
   ]
  },
  {
   "cell_type": "markdown",
   "id": "colonial-mozambique",
   "metadata": {},
   "source": [
    "##  Entrenar con los bigramas la red neuronal y obtener los valores para los hiperparámetros. Tomar de 100 unidades para la primera capa oculta (capa lineal) y 300 para la segunda capa oculta (capa con tanh).\n",
    "\n",
    "Variables útiles:"
   ]
  },
  {
   "cell_type": "code",
   "execution_count": 18,
   "id": "chubby-hometown",
   "metadata": {},
   "outputs": [],
   "source": [
    "N = len(indice)\n",
    "d = 100\n",
    "m = 300\n",
    "eta = 0.1\n",
    "iters = 100"
   ]
  },
  {
   "cell_type": "code",
   "execution_count": 80,
   "id": "mathematical-tamil",
   "metadata": {},
   "outputs": [],
   "source": [
    "# Esta funcion regresa el vector one hot para el indice dado\n",
    "oneHots_array = np.identity((N), dtype='uint8')\n",
    "def get_oneHot(indi):\n",
    "    return oneHots_array[indi,:]"
   ]
  },
  {
   "cell_type": "code",
   "execution_count": 91,
   "id": "coordinated-terry",
   "metadata": {},
   "outputs": [],
   "source": [
    "class red_neuronal:\n",
    "    \n",
    "    def __init__(self, N_, d_, m_, eta_=0.1, iters_=100):\n",
    "        self.N = N_\n",
    "        self.d = d_\n",
    "        self.m = m_\n",
    "        self.eta = eta_\n",
    "        self.iters = iters_        \n",
    "        # Array correspondiente a la matriz C\n",
    "        self.C = np.random.rand(self.d,self.N)\n",
    "        # Array correspondiente a la matriz W\n",
    "        self.W = np.random.rand(self.m,self.d)\n",
    "        # Array correspondiente a la matriz U\n",
    "        self.U = np.random.rand(self.N,self.m)\n",
    "    \n",
    "    def forward(self,xi):\n",
    "        self.Ci = np.dot(self.C,xi)\n",
    "        self.hi = np.tanh(np.dot(self.W,self.Ci))\n",
    "        self.a = np.dot(self.U,self.hi)\n",
    "        return softmax(self.a)\n",
    "    \n",
    "    def train(self, bigrams):\n",
    "        riesgo = 0\n",
    "        for it in range(self.iters):\n",
    "            for bi in bigrams:\n",
    "                xi = get_oneHot(bi[0])\n",
    "                p = self.forward(xi)\n",
    "                riesgo -= log(p[bi[1]])\n",
    "                #print(riesgo)\n",
    "                p[bi[1]] -= 1\n",
    "                self.d_out = p\n",
    "                self.d_h = (1 - np.square(self.hi))*np.dot(self.U.T, self.d_out)\n",
    "                self.d_c = np.dot(self.W.T, self.d_h)\n",
    "                self.U = self.U - self.eta * np.dot(self.d_out[np.newaxis].T, self.hi[np.newaxis])\n",
    "                self.W = self.W - self.eta * np.dot(self.d_h[np.newaxis].T, self.Ci[np.newaxis])\n",
    "                self.C = self.C - self.eta * np.dot(self.d_c[np.newaxis].T, xi[np.newaxis])\n",
    "            print(riesgo)\n",
    "    \n",
    "    def sentProba(self, sentencia):\n",
    "        sentencia = sentencia.split(' ')\n",
    "        for w in range(len(sentencia)):\n",
    "            sentencia[w] = indice[sentencia[w]]\n",
    "        bis = list(chain(*[zip(sent,sent[1:]) for sent in sentencia]))\n",
    "        proba = 1\n",
    "        for bi in bis:\n",
    "            proba *= self.forward(bi[0])[bi[1]]\n",
    "        return proba"
   ]
  },
  {
   "cell_type": "code",
   "execution_count": 92,
   "id": "phantom-orange",
   "metadata": {},
   "outputs": [],
   "source": [
    "red = red_neuronal(N,d,m,eta,1)"
   ]
  },
  {
   "cell_type": "code",
   "execution_count": 93,
   "id": "provincial-producer",
   "metadata": {},
   "outputs": [
    {
     "ename": "KeyboardInterrupt",
     "evalue": "",
     "output_type": "error",
     "traceback": [
      "\u001b[1;31m---------------------------------------------------------------------------\u001b[0m",
      "\u001b[1;31mKeyboardInterrupt\u001b[0m                         Traceback (most recent call last)",
      "\u001b[1;32m<ipython-input-93-140f3139649f>\u001b[0m in \u001b[0;36m<module>\u001b[1;34m\u001b[0m\n\u001b[1;32m----> 1\u001b[1;33m \u001b[0mred\u001b[0m\u001b[1;33m.\u001b[0m\u001b[0mtrain\u001b[0m\u001b[1;33m(\u001b[0m\u001b[0mbigramas\u001b[0m\u001b[1;33m)\u001b[0m\u001b[1;33m\u001b[0m\u001b[1;33m\u001b[0m\u001b[0m\n\u001b[0m",
      "\u001b[1;32m<ipython-input-91-03f44f19eb4b>\u001b[0m in \u001b[0;36mtrain\u001b[1;34m(self, bigrams)\u001b[0m\n\u001b[0;32m     25\u001b[0m             \u001b[1;32mfor\u001b[0m \u001b[0mbi\u001b[0m \u001b[1;32min\u001b[0m \u001b[0mbigrams\u001b[0m\u001b[1;33m:\u001b[0m\u001b[1;33m\u001b[0m\u001b[1;33m\u001b[0m\u001b[0m\n\u001b[0;32m     26\u001b[0m                 \u001b[0mxi\u001b[0m \u001b[1;33m=\u001b[0m \u001b[0mget_oneHot\u001b[0m\u001b[1;33m(\u001b[0m\u001b[0mbi\u001b[0m\u001b[1;33m[\u001b[0m\u001b[1;36m0\u001b[0m\u001b[1;33m]\u001b[0m\u001b[1;33m)\u001b[0m\u001b[1;33m\u001b[0m\u001b[1;33m\u001b[0m\u001b[0m\n\u001b[1;32m---> 27\u001b[1;33m                 \u001b[0mp\u001b[0m \u001b[1;33m=\u001b[0m \u001b[0mself\u001b[0m\u001b[1;33m.\u001b[0m\u001b[0mforward\u001b[0m\u001b[1;33m(\u001b[0m\u001b[0mxi\u001b[0m\u001b[1;33m)\u001b[0m\u001b[1;33m\u001b[0m\u001b[1;33m\u001b[0m\u001b[0m\n\u001b[0m\u001b[0;32m     28\u001b[0m                 \u001b[0mriesgo\u001b[0m \u001b[1;33m-=\u001b[0m \u001b[0mlog\u001b[0m\u001b[1;33m(\u001b[0m\u001b[0mp\u001b[0m\u001b[1;33m[\u001b[0m\u001b[0mbi\u001b[0m\u001b[1;33m[\u001b[0m\u001b[1;36m1\u001b[0m\u001b[1;33m]\u001b[0m\u001b[1;33m]\u001b[0m\u001b[1;33m)\u001b[0m\u001b[1;33m\u001b[0m\u001b[1;33m\u001b[0m\u001b[0m\n\u001b[0;32m     29\u001b[0m                 \u001b[1;31m#print(riesgo)\u001b[0m\u001b[1;33m\u001b[0m\u001b[1;33m\u001b[0m\u001b[1;33m\u001b[0m\u001b[0m\n",
      "\u001b[1;32m<ipython-input-91-03f44f19eb4b>\u001b[0m in \u001b[0;36mforward\u001b[1;34m(self, xi)\u001b[0m\n\u001b[0;32m     14\u001b[0m         \u001b[0mself\u001b[0m\u001b[1;33m.\u001b[0m\u001b[0mU\u001b[0m \u001b[1;33m=\u001b[0m \u001b[0mnp\u001b[0m\u001b[1;33m.\u001b[0m\u001b[0mrandom\u001b[0m\u001b[1;33m.\u001b[0m\u001b[0mrand\u001b[0m\u001b[1;33m(\u001b[0m\u001b[0mself\u001b[0m\u001b[1;33m.\u001b[0m\u001b[0mN\u001b[0m\u001b[1;33m,\u001b[0m\u001b[0mself\u001b[0m\u001b[1;33m.\u001b[0m\u001b[0mm\u001b[0m\u001b[1;33m)\u001b[0m\u001b[1;33m\u001b[0m\u001b[1;33m\u001b[0m\u001b[0m\n\u001b[0;32m     15\u001b[0m \u001b[1;33m\u001b[0m\u001b[0m\n\u001b[1;32m---> 16\u001b[1;33m     \u001b[1;32mdef\u001b[0m \u001b[0mforward\u001b[0m\u001b[1;33m(\u001b[0m\u001b[0mself\u001b[0m\u001b[1;33m,\u001b[0m\u001b[0mxi\u001b[0m\u001b[1;33m)\u001b[0m\u001b[1;33m:\u001b[0m\u001b[1;33m\u001b[0m\u001b[1;33m\u001b[0m\u001b[0m\n\u001b[0m\u001b[0;32m     17\u001b[0m         \u001b[0mself\u001b[0m\u001b[1;33m.\u001b[0m\u001b[0mCi\u001b[0m \u001b[1;33m=\u001b[0m \u001b[0mnp\u001b[0m\u001b[1;33m.\u001b[0m\u001b[0mdot\u001b[0m\u001b[1;33m(\u001b[0m\u001b[0mself\u001b[0m\u001b[1;33m.\u001b[0m\u001b[0mC\u001b[0m\u001b[1;33m,\u001b[0m\u001b[0mxi\u001b[0m\u001b[1;33m)\u001b[0m\u001b[1;33m\u001b[0m\u001b[1;33m\u001b[0m\u001b[0m\n\u001b[0;32m     18\u001b[0m         \u001b[0mself\u001b[0m\u001b[1;33m.\u001b[0m\u001b[0mhi\u001b[0m \u001b[1;33m=\u001b[0m \u001b[0mnp\u001b[0m\u001b[1;33m.\u001b[0m\u001b[0mtanh\u001b[0m\u001b[1;33m(\u001b[0m\u001b[0mnp\u001b[0m\u001b[1;33m.\u001b[0m\u001b[0mdot\u001b[0m\u001b[1;33m(\u001b[0m\u001b[0mself\u001b[0m\u001b[1;33m.\u001b[0m\u001b[0mW\u001b[0m\u001b[1;33m,\u001b[0m\u001b[0mself\u001b[0m\u001b[1;33m.\u001b[0m\u001b[0mCi\u001b[0m\u001b[1;33m)\u001b[0m\u001b[1;33m)\u001b[0m\u001b[1;33m\u001b[0m\u001b[1;33m\u001b[0m\u001b[0m\n",
      "\u001b[1;31mKeyboardInterrupt\u001b[0m: "
     ]
    }
   ],
   "source": [
    "red.train(bigramas)"
   ]
  },
  {
   "cell_type": "code",
   "execution_count": null,
   "id": "asian-tampa",
   "metadata": {},
   "outputs": [],
   "source": [
    "sent1 = '<BOS> Do not go gentle into that good night . <EOS>' # Dylan Thomas\n",
    "sent2 = '<BOS> I am become death , the destroyer of worlds . <EOS>' # Robert Oppenheimer\n",
    "sent3 = '<BOS> It was the best of times , it was the worst of times , it was the season of light , it was the season of darkness , it was the spring of hope, it was the winter of despair . <EOS>' # Charles Dickens\n",
    "sent4 = '<BOS> Anything you can imagine you can make real . <EOS>' # Jules Verne\n",
    "sent5 = '<BOS> Rage , rage against the dying of the light . <EOS>' # Dylan Thomas"
   ]
  },
  {
   "cell_type": "code",
   "execution_count": null,
   "id": "fuzzy-scotland",
   "metadata": {},
   "outputs": [],
   "source": [
    "red.sentProba(sent1)"
   ]
  },
  {
   "cell_type": "code",
   "execution_count": null,
   "id": "brilliant-victoria",
   "metadata": {},
   "outputs": [],
   "source": [
    "red.sentProba(sent2)"
   ]
  },
  {
   "cell_type": "code",
   "execution_count": null,
   "id": "nearby-volleyball",
   "metadata": {},
   "outputs": [],
   "source": [
    "red.sentProba(sent3)"
   ]
  },
  {
   "cell_type": "code",
   "execution_count": null,
   "id": "express-explanation",
   "metadata": {},
   "outputs": [],
   "source": [
    "red.sentProba(sent4)"
   ]
  },
  {
   "cell_type": "code",
   "execution_count": null,
   "id": "handed-investigator",
   "metadata": {},
   "outputs": [],
   "source": [
    "red.sentProba(sent5)"
   ]
  },
  {
   "cell_type": "markdown",
   "id": "formed-latvia",
   "metadata": {},
   "source": [
    "***"
   ]
  },
  {
   "cell_type": "markdown",
   "id": "pleased-fiction",
   "metadata": {},
   "source": [
    "## Fuentes de Consulta:\n",
    "\n",
    "- [1] Numpy, \"NumPy Reference — NumPy v1.21 Manual\", Numpy.org, 2021. [Online]. Available: https://numpy.org/doc/stable/reference/index.html. [Accessed: 09- Aug- 2021]."
   ]
  }
 ],
 "metadata": {
  "kernelspec": {
   "display_name": "Python 3",
   "language": "python",
   "name": "python3"
  },
  "language_info": {
   "codemirror_mode": {
    "name": "ipython",
    "version": 3
   },
   "file_extension": ".py",
   "mimetype": "text/x-python",
   "name": "python",
   "nbconvert_exporter": "python",
   "pygments_lexer": "ipython3",
   "version": "3.9.0"
  }
 },
 "nbformat": 4,
 "nbformat_minor": 5
}
